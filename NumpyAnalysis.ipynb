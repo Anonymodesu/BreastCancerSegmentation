{
 "cells": [
  {
   "cell_type": "markdown",
   "metadata": {},
   "source": [
    "The code here finds a fixed-size bounding box for all patients' tumours and outputs the bounding boxes and their centres for each patient.\n",
    "\n",
    "Also extracted radiomics data is normalised."
   ]
  },
  {
   "cell_type": "code",
   "execution_count": 1,
   "metadata": {},
   "outputs": [
    {
     "name": "stderr",
     "output_type": "stream",
     "text": [
      "Using TensorFlow backend.\n"
     ]
    }
   ],
   "source": [
    "import numpy as np\n",
    "from scipy import ndimage\n",
    "import os\n",
    "import SimpleITK as sitk\n",
    "import matplotlib.pyplot as plt\n",
    "import utils"
   ]
  },
  {
   "cell_type": "code",
   "execution_count": 2,
   "metadata": {},
   "outputs": [],
   "source": [
    "#choose which dataset you want to generate bounding boxes/centres/sizes of\n",
    "\n",
    "dataset = 'HeadNeckCancer'\n",
    "#dataset = 'BreastCancer'"
   ]
  },
  {
   "cell_type": "code",
   "execution_count": 3,
   "metadata": {},
   "outputs": [],
   "source": [
    "%load_ext autoreload\n",
    "%autoreload 2\n",
    "#if this is not here, the loaded notebook will not detect ensuing changes in imported numpy scripts "
   ]
  },
  {
   "cell_type": "code",
   "execution_count": 4,
   "metadata": {},
   "outputs": [
    {
     "name": "stdout",
     "output_type": "stream",
     "text": [
      "centres shape (295, 3)\n",
      "bounding boxes shape (295, 3, 2)\n",
      "mask values [0. 1.]\n"
     ]
    }
   ],
   "source": [
    "mask_values = np.zeros(0)\n",
    "centres = np.zeros((0,3), dtype = int)\n",
    "bounding_boxes = np.zeros((0,3,2), dtype=int)\n",
    "bounding_box_sizes = np.zeros((0,3), dtype = int)\n",
    "mask_files = []\n",
    "\n",
    "#taken from https://stackoverflow.com/questions/31400769/bounding-box-of-numpy-array\n",
    "#finds the bounding box coordinates of the mask\n",
    "def bounding_box_coordinates(volume):\n",
    "    x = np.any(volume, axis=(1,2))\n",
    "    y = np.any(volume, axis=(0,2))\n",
    "    z = np.any(volume, axis=(0,1))\n",
    "    \n",
    "    xmin, xmax = np.where(x)[0][[0, -1]]\n",
    "    ymin, ymax = np.where(y)[0][[0, -1]]\n",
    "    zmin, zmax = np.where(z)[0][[0, -1]]\n",
    "    \n",
    "    return np.array([[xmin, xmax+1], \n",
    "                     [ymin, ymax+1], \n",
    "                     [zmin, zmax+1]])\n",
    "\n",
    "for root, dirs, files in os.walk('/home/jzhe0882/numpydata/' + dataset + '/Mask'):\n",
    "    for name in files:\n",
    "        file_path = os.path.join(root, name)\n",
    "        mask_files.append(file_path)\n",
    "        \n",
    "        array = np.load(file_path)\n",
    "        try:\n",
    "            bbox = bounding_box_coordinates(array)\n",
    "        except:\n",
    "            print(name, 'has no discernible bounding box')\n",
    "            array[89, 64, 76] = 1\n",
    "            bbox = np.array([[89,90], [64,65], [76,77]]) #HN-CHUS-70's bounding box is too small; artificially set one here\n",
    "            np.save(file_path, array)\n",
    "            \n",
    "        centre = np.average(bbox, axis=1).astype(int)\n",
    "        size = bbox[:,1] - bbox[:,0] \n",
    "        \n",
    "        mask_values = np.append(mask_values, np.unique(array))\n",
    "        centres = np.append(centres, [centre], axis=0)\n",
    "        bounding_boxes = np.append(bounding_boxes, [bbox], axis=0)\n",
    "        bounding_box_sizes = np.append(bounding_box_sizes, [size], axis=0)\n",
    "        \n",
    "        np.save(os.path.join('/home/jzhe0882/numpydata/' + dataset + '/MaskCentres', name), centre)\n",
    "        np.save(os.path.join('/home/jzhe0882/numpydata/' + dataset + '/MaskSizes', name), size)\n",
    "        \n",
    "        #print(bbox)\n",
    "        #print(size)\n",
    "        #break\n",
    "        \n",
    "mask_values = np.unique(mask_values)\n",
    "\n",
    "print('centres shape', centres.shape)\n",
    "print('bounding boxes shape', bounding_boxes.shape)\n",
    "print('mask values', mask_values)"
   ]
  },
  {
   "cell_type": "code",
   "execution_count": 5,
   "metadata": {},
   "outputs": [
    {
     "name": "stdout",
     "output_type": "stream",
     "text": [
      "maximal bounding box: [44 27 76]\n"
     ]
    }
   ],
   "source": [
    "#bounding_box_sizes = bounding_boxes[:,:,1] - bounding_boxes[:,:,0]\n",
    "maximal_box = np.amax(bounding_box_sizes, axis=0)\n",
    "print('maximal bounding box:', maximal_box)"
   ]
  },
  {
   "cell_type": "code",
   "execution_count": 6,
   "metadata": {},
   "outputs": [],
   "source": [
    "# Use the maximal bounding box to generate bounding boxes for each of the masks\n",
    "\n",
    "if dataset == 'HeadNeckCancer':\n",
    "    maximal_box = np.array([44, 27, 76], dtype=int)\n",
    "elif dataset == 'BreastCancer':\n",
    "    maximal_box = np.array([18, 15, 23], dtype=int)\n",
    "maximal_extents = 0.5 * maximal_box #half of the maximal box\n",
    "\n",
    "#generates a bounding box volume given the parameters\n",
    "def get_bounding_box(source_volume, centre, extents):\n",
    "    extents_ceil = np.ceil(extents).astype(int)\n",
    "    extents_floor = extents.astype(int)\n",
    "    centre = np.rint(centre).astype(int)\n",
    "    \n",
    "    maxima = centre + extents_ceil\n",
    "    minima = centre - extents_floor\n",
    "    \n",
    "    #keep bounding box dimensions within the mask dimensions\n",
    "    maxima = np.minimum(maxima, np.array(source_volume.shape)).astype(int)\n",
    "    minima = np.maximum(minima, [0,0,0]).astype(int) \n",
    "        \n",
    "    bounding_box_values = source_volume[minima[0]:maxima[0],\n",
    "                                      minima[1]:maxima[1],\n",
    "                                      minima[2]:maxima[2]]\n",
    "    \n",
    "    relative_centre = extents_floor\n",
    "    relative_maxima = relative_centre + maxima - centre\n",
    "    relative_minima = relative_centre + minima - centre\n",
    "    \n",
    "    bounding_box = np.zeros(extents_ceil + extents_floor)\n",
    "    \n",
    "    bounding_box[relative_minima[0]:relative_maxima[0],\n",
    "                relative_minima[1]:relative_maxima[1],\n",
    "                relative_minima[2]:relative_maxima[2]] = bounding_box_values\n",
    "    \n",
    "    return bounding_box\n",
    "\n",
    "for i in range(len(mask_files)):\n",
    "    centre = centres[i]\n",
    "    file_path = mask_files[i]\n",
    "    mask = np.load(file_path)\n",
    "    \n",
    "    bounding_box = get_bounding_box(mask, centre, maximal_extents)\n",
    "    \n",
    "    target_path = file_path.replace('Mask', 'MaskBoundingBox')\n",
    "    \n",
    "    np.save(target_path, bounding_box)\n",
    "    "
   ]
  },
  {
   "cell_type": "code",
   "execution_count": 7,
   "metadata": {},
   "outputs": [
    {
     "name": "stdout",
     "output_type": "stream",
     "text": [
      "number of mask pixels / number of bounding box pixels: 0.2812967087820356\n",
      "number of mask pixels / number of maximal bounding box pixels: 0.007942718892763509\n",
      "number of mask pixels / number of total pixels: 0.0003419552819203522\n",
      "average shape proportions [0.51447393 0.46598212 0.66635646]\n"
     ]
    }
   ],
   "source": [
    "#Calculate the proportion of positive values with negative values\n",
    "\n",
    "mask_bounding_box_proportion = 0\n",
    "mask_maximal_bounding_box_proportion = 0\n",
    "mask_total_volume_proportion = 0\n",
    "mask_average_shape = np.zeros(3)\n",
    "\n",
    "for i in range(len(mask_files)):\n",
    "    \n",
    "    #returns the proportion and number of mask pixels in the bounding box\n",
    "    def mask_proportion(bounding_box):\n",
    "        unique, counts = np.unique(bounding_box, return_counts=True)\n",
    "        counts = dict(zip(unique, counts))\n",
    "        mask = counts.get(1,0) #dont use counts[1] since there may be no mask pixels (which is bad)\n",
    "        background = counts.get(0,0)\n",
    "        return mask / (mask + background), mask\n",
    "\n",
    "    mask = np.load(mask_files[i])\n",
    "    centre = centres[i]\n",
    "    bounding_box_size = bounding_box_sizes[i]\n",
    "    \n",
    "    proportion, mask_pixels = mask_proportion(get_bounding_box(mask, centre, 0.5 * bounding_box_size))\n",
    "    proportion1, mask_pixels1 = mask_proportion(get_bounding_box(mask, centre, maximal_extents))\n",
    "    proportion2, mask_pixels2 = mask_proportion(mask)\n",
    "    \n",
    "    mask_bounding_box_proportion += proportion\n",
    "    mask_maximal_bounding_box_proportion += proportion1\n",
    "    mask_total_volume_proportion += proportion2\n",
    "    \n",
    "    #ensure that each bounding box contains all of the mask pixels\n",
    "    if mask_pixels != mask_pixels1 or mask_pixels != mask_pixels2:\n",
    "        print(mask_files[i]) \n",
    "    \n",
    "    mask_average_shape += bounding_box_size / np.linalg.norm(bounding_box_size)\n",
    "\n",
    "\n",
    "mask_bounding_box_proportion = mask_bounding_box_proportion / len(mask_files)\n",
    "mask_maximal_bounding_box_proportion = mask_maximal_bounding_box_proportion / len(mask_files)\n",
    "mask_total_volume_proportion = mask_total_volume_proportion / len(mask_files)\n",
    "mask_average_shape = mask_average_shape / len(mask_files)\n",
    "\n",
    "print('number of mask pixels / number of bounding box pixels:', mask_bounding_box_proportion)\n",
    "print('number of mask pixels / number of maximal bounding box pixels:', mask_maximal_bounding_box_proportion)\n",
    "print('number of mask pixels / number of total pixels:', mask_total_volume_proportion)\n",
    "print('average shape proportions', mask_average_shape)"
   ]
  },
  {
   "cell_type": "code",
   "execution_count": 8,
   "metadata": {},
   "outputs": [
    {
     "name": "stdout",
     "output_type": "stream",
     "text": [
      "[59. 53. 76.]\n"
     ]
    }
   ],
   "source": [
    "# scale up masks's average shape proportions to the scale of the maximal bounding box \n",
    "def get_best_bounding_box(bbox_proportions, maximal_bbox):\n",
    "    size_ratio = np.amax(np.divide(maximal_bbox, bbox_proportions))\n",
    "    best_bbox = np.rint(size_ratio * bbox_proportions)\n",
    "    return best_bbox\n",
    "print(get_best_bounding_box(mask_average_shape, maximal_box))"
   ]
  },
  {
   "cell_type": "code",
   "execution_count": 9,
   "metadata": {},
   "outputs": [],
   "source": [
    "# Put a volume through 3D slicer to see how the mask coincides with the segmentation. \n",
    "\n",
    "# target_centre refers to the (i,j,k)th slice of the tumour centre in the entire (128,128,96) volume\n",
    "# target_radius refers to half of the size of the bounding box (in number of slices)\n",
    "def output_numpy_mask_to_nrrd(patient_name, target_centre, target_radius, dataset): \n",
    "    reference_volume = None\n",
    "    \n",
    "    if dataset == 'HeadNeckCancer':\n",
    "        # there should only be one file here\n",
    "        reference_file = None\n",
    "        for root, dirs, files in os.walk(os.path.join('/home/jzhe0882/datasets/LabelMaps-Processed/', patient_name)):\n",
    "            for name in files:\n",
    "                reference_file = os.path.join(root, name)\n",
    "        \n",
    "        reader = sitk.ImageFileReader()\n",
    "        reader.SetFileName(reference_file)\n",
    "        reference_volume = reader.Execute()\n",
    "                \n",
    "    elif dataset == 'BreastCancer':\n",
    "        reader = sitk.ImageSeriesReader()\n",
    "        files = reader.GetGDCMSeriesFileNames(os.path.join('/home/jzhe0882/datasets/Breast Cancer Scans-Abridged/', patient_name, 'PET_before'))\n",
    "        reader.SetFileNames(files)\n",
    "        reference_volume = reader.Execute()\n",
    "        \n",
    "    else:\n",
    "        print('Wrong dataset:', dataset)\n",
    "        return\n",
    "        \n",
    "    if reference_volume is None:\n",
    "        print('cant find patient', patient_name)\n",
    "        return\n",
    "    \n",
    "    test_volume = sitk.GetImageFromArray(np.transpose(np.load(\n",
    "        os.path.join('/home/jzhe0882/numpydata/' + dataset + '/MaskBoundingBox', '{}.npy'.format(patient_name)))))\n",
    "        \n",
    "    #tumour_centre is in real-world millimeter coordinates\n",
    "    #The 'Origin' in the SITK API refers to the position of a corner in the volume, not the centre of the volume\n",
    "    #The 'Direction' refers to which corner\n",
    "    #tumour_centre = np.array(reference_volume.GetOrigin()) + target_centre * np.array(reference_volume.GetSpacing())\n",
    "    #target_origin = tumour_centre - target_radius * np.array(reference_volume.GetSpacing())\n",
    "    size_ratio = np.divide(reference_volume.GetSize(), [128,128,128])\n",
    "    reference_index = np.multiply(size_ratio, (target_centre - target_radius))\n",
    "    target_origin = reference_volume.TransformContinuousIndexToPhysicalPoint(reference_index)\n",
    "    \n",
    "    print(reference_index, reference_volume.GetSize(), target_centre)\n",
    "    \n",
    "    test_volume.SetOrigin((target_origin[0], target_origin[1], target_origin[2]))\n",
    "    #reference_volume.TransformContinuousIndexToPhysicalPoint(0.5 * np.array(reference_volume.GetSize()))\n",
    "    \n",
    "    target_spacing = np.multiply(size_ratio, reference_volume.GetSpacing())\n",
    "    test_volume.SetSpacing(target_spacing)\n",
    "    test_volume.SetDirection(reference_volume.GetDirection())\n",
    "    writer = sitk.ImageFileWriter()\n",
    "    writer.SetFileName(os.path.join('/home/jzhe0882/SegmentationOutput', '{}.nrrd'.format(patient_name)))\n",
    "    writer.Execute(test_volume)\n",
    "    \n",
    "# For HN-HMR-039 and 10666779, the mask has a maximal dimension along the x axis (the x-axis' dimension is equal to the maximal bounding box's x dimension)\n",
    "# So the tumour should be visible for each frame along the x axis.\n",
    "\n",
    "for i in range(len(mask_files)):\n",
    "    if dataset == 'HeadNeckCancer':\n",
    "        patient_name = 'HN-HMR-039' #Head neck patient\n",
    "    elif dataset == 'BreastCancer':\n",
    "        patient_name = '10666779' #z-axis #Breast patient\n",
    "        #patient_name = '10682368' #y-axis\n",
    "        \n",
    "    if patient_name in mask_files[i]:\n",
    "        #output mask\n",
    "        patient_bbox = np.transpose(np.load(\n",
    "        os.path.join('/home/jzhe0882/numpydata/' + dataset + '/MaskBoundingBox', '{}.npy'.format(patient_name))))\n",
    "        utils.output_numpy_mask_to_nrrd(patient_name, patient_bbox, centres[i], maximal_extents, dataset)\n",
    "        \n",
    "        #output radiomics\n",
    "        patient_radiomics = np.transpose(np.load(\n",
    "        os.path.join('/home/jzhe0882/Radiomics/' + dataset + '/PET', '{}.npy'.format(patient_name))))\n",
    "        half_radiomics_size=np.array([64,64,64])\n",
    "        \n",
    "        for feature in range(patient_radiomics.shape[0]):\n",
    "            utils.output_numpy_mask_to_nrrd(patient_name, patient_radiomics[feature,:,:,:], half_radiomics_size, half_radiomics_size, dataset, \n",
    "                                            filename_tag='radiomics-' + str(feature))\n",
    "\n",
    "        \n",
    "    "
   ]
  },
  {
   "cell_type": "code",
   "execution_count": 8,
   "metadata": {},
   "outputs": [
    {
     "name": "stdout",
     "output_type": "stream",
     "text": [
      "(160,)\n",
      "CT mean and std -678.6061487555504 177.27716480757894\n",
      "PET mean and std 309.54431105169084 98.16018568461054\n"
     ]
    }
   ],
   "source": [
    "#indicates that the image data should be normalised\n",
    "\n",
    "means = np.zeros(0)\n",
    "\n",
    "for root, dirs, files in os.walk('/home/jzhe0882/numpydata/' + dataset + '/CT'):\n",
    "    for name in files:\n",
    "        file_path = os.path.join(root, name)\n",
    "        array = np.load(file_path)\n",
    "        \n",
    "        mean = np.mean(array)\n",
    "        std = np.std(array)\n",
    "        means = np.append(means, mean)\n",
    "        \n",
    "print(means.shape)\n",
    "print('CT mean and std', np.mean(means), np.std(means))\n",
    "\n",
    "means = np.zeros(0)\n",
    "for root, dirs, files in os.walk('/home/jzhe0882/numpydata/' + dataset + '/PET'):\n",
    "    for name in files:\n",
    "        file_path = os.path.join(root, name)\n",
    "        array = np.load(file_path)\n",
    "        mean = np.mean(array)\n",
    "        std = np.std(array)\n",
    "        means = np.append(means, mean)\n",
    "        \n",
    "print('PET mean and std', np.mean(means), np.std(means))"
   ]
  },
  {
   "cell_type": "code",
   "execution_count": 9,
   "metadata": {},
   "outputs": [
    {
     "name": "stdout",
     "output_type": "stream",
     "text": [
      "bounding box distribution:\n",
      "size std: [3.36154726 2.80590198 4.24300435]\n",
      "size mean: [6.5     6.45625 8.25625]\n",
      "centre std: [19.69312916  4.23849546 13.83227657]\n",
      "centre mean: [62.84375 61.8125  61.925  ]\n"
     ]
    }
   ],
   "source": [
    "print('bounding box distribution:')\n",
    "print('size std:', np.std(bounding_box_sizes, axis=0))\n",
    "print('size mean:', np.mean(bounding_box_sizes, axis=0))\n",
    "print('centre std:', np.std(centres, axis=0))\n",
    "print('centre mean:', np.mean(centres, axis=0))\n"
   ]
  },
  {
   "cell_type": "code",
   "execution_count": 9,
   "metadata": {},
   "outputs": [
    {
     "data": {
      "image/png": "[encoded data removed]",
      "text/plain": [
       "<Figure size 1440x480 with 1 Axes>"
      ]
     },
     "metadata": {},
     "output_type": "display_data"
    }
   ],
   "source": [
    "\n",
    "'''\n",
    "sizes = []\n",
    "for box_size in bounding_box_sizes:\n",
    "    size = 1\n",
    "    \n",
    "    for dim in box_size:\n",
    "        size *= dim\n",
    "        \n",
    "    sizes.append(size)\n",
    "    \n",
    "plt.scatter(sizes, [0] * len(sizes), s=1)'''\n",
    "\n",
    "plt.figure(num=None, figsize=(18, 6), dpi=80, facecolor='w', edgecolor='k')\n",
    "plt.scatter(bounding_box_sizes[:, 0], [0] * len(bounding_box_sizes), s=2)\n",
    "plt.scatter(bounding_box_sizes[:, 1], [1] * len(bounding_box_sizes), s=2)\n",
    "plt.scatter(bounding_box_sizes[:, 2], [2] * len(bounding_box_sizes), s=2)\n",
    "plt.show()"
   ]
  },
  {
   "cell_type": "code",
   "execution_count": 33,
   "metadata": {},
   "outputs": [
    {
     "name": "stdout",
     "output_type": "stream",
     "text": [
      "[0]\n",
      "[0]\n"
     ]
    },
    {
     "ename": "IndexError",
     "evalue": "index 0 is out of bounds for axis 0 with size 0",
     "output_type": "error",
     "traceback": [
      "\u001b[0;31m---------------------------------------------------------------------------\u001b[0m",
      "\u001b[0;31mIndexError\u001b[0m                                Traceback (most recent call last)",
      "\u001b[0;32m<ipython-input-33-5834875823e7>\u001b[0m in \u001b[0;36m<module>\u001b[0;34m()\u001b[0m\n\u001b[1;32m      6\u001b[0m \u001b[0marray\u001b[0m \u001b[0;34m=\u001b[0m \u001b[0msitk\u001b[0m\u001b[0;34m.\u001b[0m\u001b[0mGetArrayFromImage\u001b[0m\u001b[0;34m(\u001b[0m\u001b[0mvolume\u001b[0m\u001b[0;34m)\u001b[0m\u001b[0;34m\u001b[0m\u001b[0;34m\u001b[0m\u001b[0m\n\u001b[1;32m      7\u001b[0m \u001b[0mprint\u001b[0m\u001b[0;34m(\u001b[0m\u001b[0mnp\u001b[0m\u001b[0;34m.\u001b[0m\u001b[0munique\u001b[0m\u001b[0;34m(\u001b[0m\u001b[0marray\u001b[0m\u001b[0;34m)\u001b[0m\u001b[0;34m)\u001b[0m\u001b[0;34m\u001b[0m\u001b[0;34m\u001b[0m\u001b[0m\n\u001b[0;32m----> 8\u001b[0;31m \u001b[0mprint\u001b[0m\u001b[0;34m(\u001b[0m\u001b[0mbounding_box_coordinates\u001b[0m\u001b[0;34m(\u001b[0m\u001b[0marray\u001b[0m\u001b[0;34m)\u001b[0m\u001b[0;34m)\u001b[0m\u001b[0;34m\u001b[0m\u001b[0;34m\u001b[0m\u001b[0m\n\u001b[0m",
      "\u001b[0;32m<ipython-input-32-626c95b22710>\u001b[0m in \u001b[0;36mbounding_box_coordinates\u001b[0;34m(volume)\u001b[0m\n\u001b[1;32m     12\u001b[0m     \u001b[0mz\u001b[0m \u001b[0;34m=\u001b[0m \u001b[0mnp\u001b[0m\u001b[0;34m.\u001b[0m\u001b[0many\u001b[0m\u001b[0;34m(\u001b[0m\u001b[0mvolume\u001b[0m\u001b[0;34m,\u001b[0m \u001b[0maxis\u001b[0m\u001b[0;34m=\u001b[0m\u001b[0;34m(\u001b[0m\u001b[0;36m0\u001b[0m\u001b[0;34m,\u001b[0m\u001b[0;36m1\u001b[0m\u001b[0;34m)\u001b[0m\u001b[0;34m)\u001b[0m\u001b[0;34m\u001b[0m\u001b[0;34m\u001b[0m\u001b[0m\n\u001b[1;32m     13\u001b[0m \u001b[0;34m\u001b[0m\u001b[0m\n\u001b[0;32m---> 14\u001b[0;31m     \u001b[0mxmin\u001b[0m\u001b[0;34m,\u001b[0m \u001b[0mxmax\u001b[0m \u001b[0;34m=\u001b[0m \u001b[0mnp\u001b[0m\u001b[0;34m.\u001b[0m\u001b[0mwhere\u001b[0m\u001b[0;34m(\u001b[0m\u001b[0mx\u001b[0m\u001b[0;34m)\u001b[0m\u001b[0;34m[\u001b[0m\u001b[0;36m0\u001b[0m\u001b[0;34m]\u001b[0m\u001b[0;34m[\u001b[0m\u001b[0;34m[\u001b[0m\u001b[0;36m0\u001b[0m\u001b[0;34m,\u001b[0m \u001b[0;34m-\u001b[0m\u001b[0;36m1\u001b[0m\u001b[0;34m]\u001b[0m\u001b[0;34m]\u001b[0m\u001b[0;34m\u001b[0m\u001b[0;34m\u001b[0m\u001b[0m\n\u001b[0m\u001b[1;32m     15\u001b[0m     \u001b[0mymin\u001b[0m\u001b[0;34m,\u001b[0m \u001b[0mymax\u001b[0m \u001b[0;34m=\u001b[0m \u001b[0mnp\u001b[0m\u001b[0;34m.\u001b[0m\u001b[0mwhere\u001b[0m\u001b[0;34m(\u001b[0m\u001b[0my\u001b[0m\u001b[0;34m)\u001b[0m\u001b[0;34m[\u001b[0m\u001b[0;36m0\u001b[0m\u001b[0;34m]\u001b[0m\u001b[0;34m[\u001b[0m\u001b[0;34m[\u001b[0m\u001b[0;36m0\u001b[0m\u001b[0;34m,\u001b[0m \u001b[0;34m-\u001b[0m\u001b[0;36m1\u001b[0m\u001b[0;34m]\u001b[0m\u001b[0;34m]\u001b[0m\u001b[0;34m\u001b[0m\u001b[0;34m\u001b[0m\u001b[0m\n\u001b[1;32m     16\u001b[0m     \u001b[0mzmin\u001b[0m\u001b[0;34m,\u001b[0m \u001b[0mzmax\u001b[0m \u001b[0;34m=\u001b[0m \u001b[0mnp\u001b[0m\u001b[0;34m.\u001b[0m\u001b[0mwhere\u001b[0m\u001b[0;34m(\u001b[0m\u001b[0mz\u001b[0m\u001b[0;34m)\u001b[0m\u001b[0;34m[\u001b[0m\u001b[0;36m0\u001b[0m\u001b[0;34m]\u001b[0m\u001b[0;34m[\u001b[0m\u001b[0;34m[\u001b[0m\u001b[0;36m0\u001b[0m\u001b[0;34m,\u001b[0m \u001b[0;34m-\u001b[0m\u001b[0;36m1\u001b[0m\u001b[0;34m]\u001b[0m\u001b[0;34m]\u001b[0m\u001b[0;34m\u001b[0m\u001b[0;34m\u001b[0m\u001b[0m\n",
      "\u001b[0;31mIndexError\u001b[0m: index 0 is out of bounds for axis 0 with size 0"
     ]
    }
   ],
   "source": [
    "#check how CHUS-012 has no discernible bounding box\n",
    "print(np.unique(np.load('/home/jzhe0882/numpydata/HeadNeckCancer/Mask/HN-CHUS-012.npy')))\n",
    "\n",
    "reader = sitk.ImageFileReader()\n",
    "reader.SetFileName('/home/jzhe0882/datasets/LabelMaps-Processed/HN-CHUS-012/1  RTSTRUCT  RTstruct_GTV.nrrd')\n",
    "volume = reader.Execute()\n",
    "array = sitk.GetArrayFromImage(volume)\n",
    "print(np.unique(array))\n",
    "print(bounding_box_coordinates(array))"
   ]
  },
  {
   "cell_type": "markdown",
   "metadata": {},
   "source": [
    "# Radiomics data normalisation"
   ]
  },
  {
   "cell_type": "code",
   "execution_count": 15,
   "metadata": {},
   "outputs": [
    {
     "name": "stdout",
     "output_type": "stream",
     "text": [
      "[ 1.91250446e+12  3.59617804e+04  1.07507544e+05  1.93775938e+04\n",
      "  4.39490117e+08  8.21910806e+03 -3.01149765e+07]\n"
     ]
    }
   ],
   "source": [
    "ct_radiomics_files, pet_radiomics_files = [], []\n",
    "\n",
    "for root, dirs, files in os.walk('/home/jzhe0882/Radiomics/' + dataset + '/CT'):\n",
    "    for name in files:\n",
    "        file_path = os.path.join(root, name)\n",
    "        ct_radiomics_files.append(file_path)\n",
    "\n",
    "for root, dirs, files in os.walk('/home/jzhe0882/Radiomics/' + dataset + '/PET'):\n",
    "    for name in files:\n",
    "        file_path = os.path.join(root, name)\n",
    "        pet_radiomics_files.append(file_path)\n",
    "        \n",
    "def calculate_radiomics_mean_std(modality):\n",
    "    #these values are derived from MyRadiomicsExtraction.ipynb\n",
    "    num_features = 7\n",
    "    kernel_size = 4 \n",
    "    num_points = (128 / kernel_size) **3\n",
    "    \n",
    "    feature_sum = np.zeros(num_features, dtype=np.float64)\n",
    "    feature_sum_square = np.zeros(num_features, dtype=np.float64)\n",
    "    \n",
    "    if modality == 'CT':\n",
    "        radiomics_files = ct_radiomics_files\n",
    "    elif modality == 'PET':\n",
    "        radiomics_files = pet_radiomics_files\n",
    "    \n",
    "    for filepath in radiomics_files:\n",
    "        volume = np.load(filepath)\n",
    "        subsampled = volume[0::kernel_size, 0::kernel_size, 0::kernel_size, :]\n",
    "        feature_sum += np.sum(subsampled, axis=(0,1,2))\n",
    "        feature_sum_square = \n",
    "        print(feature_sum)\n",
    "        \n",
    "        return\n",
    "    \n",
    "calculate_radiomics_mean_std('CT')"
   ]
  },
  {
   "cell_type": "code",
   "execution_count": null,
   "metadata": {},
   "outputs": [],
   "source": []
  }
 ],
 "metadata": {
  "kernelspec": {
   "display_name": "Python 3",
   "language": "python",
   "name": "python3"
  },
  "language_info": {
   "codemirror_mode": {
    "name": "ipython",
    "version": 3
   },
   "file_extension": ".py",
   "mimetype": "text/x-python",
   "name": "python",
   "nbconvert_exporter": "python",
   "pygments_lexer": "ipython3",
   "version": "3.7.3"
  }
 },
 "nbformat": 4,
 "nbformat_minor": 4
}
